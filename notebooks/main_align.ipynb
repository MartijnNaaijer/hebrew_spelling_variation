{
 "cells": [
  {
   "cell_type": "code",
   "execution_count": 5,
   "id": "38c9968e",
   "metadata": {},
   "outputs": [],
   "source": [
    "import collections\n",
    "import os\n",
    "\n",
    "from Bio import pairwise2\n",
    "from Bio.Seq import Seq\n",
    "\n",
    "import numpy as np\n",
    "import pandas as pd\n",
    "\n",
    "from tf.app import use\n",
    "\n",
    "import book_class\n",
    "import align_functions\n"
   ]
  },
  {
   "cell_type": "code",
   "execution_count": null,
   "id": "8360253e",
   "metadata": {},
   "outputs": [],
   "source": [
    "A = use('etcbc/bhsa', hoist=globals())\n",
    "Fmt, Tmt, Lmt = F, T, L\n",
    "\n",
    "B = use('dt-ucph/sp', version='3.4', hoist=globals())\n",
    "Fsp, Tsp, Lsp = F, T, L\n",
    "\n",
    "C = use('etcbc/dss', version='1.9', hoist=globals())\n",
    "Fdss, Tdss, Ldss = F, T, L\n",
    "\n",
    "del F, T, L\n",
    "\n"
   ]
  },
  {
   "cell_type": "code",
   "execution_count": 2,
   "id": "a3c0d941",
   "metadata": {},
   "outputs": [
    {
     "ename": "NameError",
     "evalue": "name 'Fmt' is not defined",
     "output_type": "error",
     "traceback": [
      "\u001b[1;31m---------------------------------------------------------------------------\u001b[0m",
      "\u001b[1;31mNameError\u001b[0m                                 Traceback (most recent call last)",
      "\u001b[1;32m~\\AppData\\Local\\Temp/ipykernel_18872/1269377091.py\u001b[0m in \u001b[0;36m<module>\u001b[1;34m\u001b[0m\n\u001b[0;32m      5\u001b[0m \u001b[1;33m\u001b[0m\u001b[0m\n\u001b[0;32m      6\u001b[0m \u001b[0mPENTATEUCH_BOOKS\u001b[0m \u001b[1;33m=\u001b[0m \u001b[1;33m[\u001b[0m\u001b[1;34m'Genesis'\u001b[0m\u001b[1;33m,\u001b[0m \u001b[1;34m'Exodus'\u001b[0m\u001b[1;33m,\u001b[0m \u001b[1;34m'Leviticus'\u001b[0m\u001b[1;33m,\u001b[0m \u001b[1;34m'Numbers'\u001b[0m\u001b[1;33m,\u001b[0m \u001b[1;34m'Deuteronomy'\u001b[0m\u001b[1;33m]\u001b[0m\u001b[1;33m\u001b[0m\u001b[1;33m\u001b[0m\u001b[0m\n\u001b[1;32m----> 7\u001b[1;33m \u001b[0mALL_BOOK_NAMES\u001b[0m \u001b[1;33m=\u001b[0m \u001b[1;33m[\u001b[0m\u001b[0mTmt\u001b[0m\u001b[1;33m.\u001b[0m\u001b[0msectionFromNode\u001b[0m\u001b[1;33m(\u001b[0m\u001b[0mbo\u001b[0m\u001b[1;33m)\u001b[0m\u001b[1;33m[\u001b[0m\u001b[1;36m0\u001b[0m\u001b[1;33m]\u001b[0m \u001b[1;32mfor\u001b[0m \u001b[0mbo\u001b[0m \u001b[1;32min\u001b[0m \u001b[0mFmt\u001b[0m\u001b[1;33m.\u001b[0m\u001b[0motype\u001b[0m\u001b[1;33m.\u001b[0m\u001b[0ms\u001b[0m\u001b[1;33m(\u001b[0m\u001b[1;34m'book'\u001b[0m\u001b[1;33m)\u001b[0m\u001b[1;33m]\u001b[0m\u001b[1;33m\u001b[0m\u001b[1;33m\u001b[0m\u001b[0m\n\u001b[0m",
      "\u001b[1;31mNameError\u001b[0m: name 'Fmt' is not defined"
     ]
    }
   ],
   "source": [
    "DATA_PATH = '../data'\n",
    "\n",
    "QSP_SCROLLS = {'1Qisaa', '1QisaaI', '1QisaaII', '2Q3', '4Q13', '4Q20', '2Q7', '4Q27', '1Q4', '2Q12', '4Q37', \n",
    "               '4Q38', '4Q38a', '4Q40', '4Q53', '4Q57', '2Q13', '4Q78', '4Q80', '4Q82', '4Q128', '4Q129', \n",
    "               '4Q134', '4Q135', '4Q136', '4Q137', '4Q138', '4Q139', '4Q140', '4Q141', '4Q142', '4Q143', \n",
    "               '4Q144', '4Q158', '4Q364', '4Q365', '4Q96', '4Q111', '4Q109', '11Q5', '11Q6', '11Q7', '11Q8'}\n",
    "\n",
    "PENTATEUCH_BOOKS = ['Genesis', 'Exodus', 'Leviticus', 'Numbers', 'Deuteronomy']\n",
    "ALL_BOOK_NAMES = [Tmt.sectionFromNode(bo)[0] for bo in Fmt.otype.s('book')]"
   ]
  },
  {
   "cell_type": "code",
   "execution_count": null,
   "id": "77c33225",
   "metadata": {},
   "outputs": [],
   "source": [
    "DATA_FILE = 'infc_qal_triliteral.csv'"
   ]
  },
  {
   "cell_type": "code",
   "execution_count": null,
   "id": "42669c02",
   "metadata": {},
   "outputs": [],
   "source": [
    "# prepare mt and sp books\n",
    "MANUSCRIPTS = ['MT', 'SP']\n",
    "all_books = AllBooks()\n",
    "for book_name in ALL_BOOK_NAMES:\n",
    "    book = Book('MT', book_name, 'Fmt', 'Tmt', 'Lmt')\n",
    "    all_books.data[('MT', book_name)] = book\n",
    "    \n",
    "    if book_name in PENTATEUCH_BOOKS:\n",
    "        book = Book('SP', book_name, 'Fsp', 'Tsp', 'Lsp')\n",
    "        all_books.data[('SP', book_name)] = book"
   ]
  },
  {
   "cell_type": "code",
   "execution_count": null,
   "id": "249ec0ee",
   "metadata": {},
   "outputs": [],
   "source": [
    "dat = pd.read_csv(os.path.join(DATA_PATH, DATA_FILE), sep='\\t')\n",
    "dat_dss = dat[~dat.scroll.isin(['MT', 'SP'])]\n",
    "scroll_book_combinations = list(set(zip(dat_dss.scroll, dat_dss.book)))\n",
    "dat_dss.shape"
   ]
  },
  {
   "cell_type": "code",
   "execution_count": null,
   "id": "7319186f",
   "metadata": {},
   "outputs": [],
   "source": [
    "for manuscript, book_name in scroll_book_combinations:\n",
    "    book = Book(manuscript, book_name, 'Fdss', 'Tdss', 'Ldss')\n",
    "    all_books.data[(manuscript, book_name)] = book"
   ]
  }
 ],
 "metadata": {
  "kernelspec": {
   "display_name": "Python 3 (ipykernel)",
   "language": "python",
   "name": "python3"
  },
  "language_info": {
   "codemirror_mode": {
    "name": "ipython",
    "version": 3
   },
   "file_extension": ".py",
   "mimetype": "text/x-python",
   "name": "python",
   "nbconvert_exporter": "python",
   "pygments_lexer": "ipython3",
   "version": "3.9.7"
  }
 },
 "nbformat": 4,
 "nbformat_minor": 5
}
